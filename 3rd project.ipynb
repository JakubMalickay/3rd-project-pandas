{
 "cells": [
  {
   "cell_type": "code",
   "execution_count": 188,
   "id": "314fe6c0",
   "metadata": {},
   "outputs": [],
   "source": [
    "import pandas as pd\n",
    "import os"
   ]
  },
  {
   "cell_type": "code",
   "execution_count": 189,
   "id": "04fd96ca",
   "metadata": {},
   "outputs": [],
   "source": [
    "files = [f for f in os.listdir(r\"C:\\Users\\malic\\Desktop\\pandas\\3.projekt\\Pandas-Data-Science-Tasks-master\\SalesAnalysis\\Sales_Data\")]"
   ]
  },
  {
   "cell_type": "code",
   "execution_count": 190,
   "id": "d5d25948",
   "metadata": {},
   "outputs": [
    {
     "data": {
      "text/plain": [
       "['Sales_April_2019.csv',\n",
       " 'Sales_August_2019.csv',\n",
       " 'Sales_December_2019.csv',\n",
       " 'Sales_February_2019.csv',\n",
       " 'Sales_January_2019.csv',\n",
       " 'Sales_July_2019.csv',\n",
       " 'Sales_June_2019.csv',\n",
       " 'Sales_March_2019.csv',\n",
       " 'Sales_May_2019.csv',\n",
       " 'Sales_November_2019.csv',\n",
       " 'Sales_October_2019.csv',\n",
       " 'Sales_September_2019.csv']"
      ]
     },
     "execution_count": 190,
     "metadata": {},
     "output_type": "execute_result"
    }
   ],
   "source": [
    "files"
   ]
  },
  {
   "cell_type": "code",
   "execution_count": 191,
   "id": "4135ea37",
   "metadata": {},
   "outputs": [],
   "source": [
    "filepaths = []\n",
    "\n",
    "for f in files:\n",
    "    filepath = r\"C:\\Users\\malic\\Desktop\\pandas\\3.projekt\\Pandas-Data-Science-Tasks-master\\SalesAnalysis\\Sales_Data\"+\"\\\\\"+f\n",
    "    filepaths.append(filepath)\n",
    "df = pd.concat(map(pd.read_csv, filepaths))"
   ]
  },
  {
   "cell_type": "code",
   "execution_count": 192,
   "id": "e8951106",
   "metadata": {},
   "outputs": [],
   "source": [
    "df.to_csv('df')"
   ]
  },
  {
   "cell_type": "markdown",
   "id": "db58fd10",
   "metadata": {},
   "source": [
    "# What was the best mont for sales, how much was earned that month?"
   ]
  },
  {
   "cell_type": "code",
   "execution_count": 193,
   "id": "0ca763d5",
   "metadata": {},
   "outputs": [],
   "source": [
    "df = df.dropna(how = 'all').reset_index()"
   ]
  },
  {
   "cell_type": "code",
   "execution_count": 195,
   "id": "48c4f3b1",
   "metadata": {},
   "outputs": [],
   "source": [
    "\n",
    "def get_month(Date):\n",
    "    return Date. split('/')[0]\n",
    "df['Month']=df['Order Date'].apply(lambda x:get_month(x))"
   ]
  },
  {
   "cell_type": "code",
   "execution_count": 196,
   "id": "480972ce",
   "metadata": {},
   "outputs": [
    {
     "data": {
      "text/html": [
       "<div>\n",
       "<style scoped>\n",
       "    .dataframe tbody tr th:only-of-type {\n",
       "        vertical-align: middle;\n",
       "    }\n",
       "\n",
       "    .dataframe tbody tr th {\n",
       "        vertical-align: top;\n",
       "    }\n",
       "\n",
       "    .dataframe thead th {\n",
       "        text-align: right;\n",
       "    }\n",
       "</style>\n",
       "<table border=\"1\" class=\"dataframe\">\n",
       "  <thead>\n",
       "    <tr style=\"text-align: right;\">\n",
       "      <th></th>\n",
       "      <th>index</th>\n",
       "      <th>Order ID</th>\n",
       "      <th>Product</th>\n",
       "      <th>Quantity Ordered</th>\n",
       "      <th>Price Each</th>\n",
       "      <th>Order Date</th>\n",
       "      <th>Purchase Address</th>\n",
       "      <th>Month</th>\n",
       "    </tr>\n",
       "  </thead>\n",
       "  <tbody>\n",
       "    <tr>\n",
       "      <th>0</th>\n",
       "      <td>0</td>\n",
       "      <td>176558</td>\n",
       "      <td>USB-C Charging Cable</td>\n",
       "      <td>2</td>\n",
       "      <td>11.95</td>\n",
       "      <td>04/19/19 08:46</td>\n",
       "      <td>917 1st St, Dallas, TX 75001</td>\n",
       "      <td>04</td>\n",
       "    </tr>\n",
       "    <tr>\n",
       "      <th>1</th>\n",
       "      <td>2</td>\n",
       "      <td>176559</td>\n",
       "      <td>Bose SoundSport Headphones</td>\n",
       "      <td>1</td>\n",
       "      <td>99.99</td>\n",
       "      <td>04/07/19 22:30</td>\n",
       "      <td>682 Chestnut St, Boston, MA 02215</td>\n",
       "      <td>04</td>\n",
       "    </tr>\n",
       "    <tr>\n",
       "      <th>2</th>\n",
       "      <td>3</td>\n",
       "      <td>176560</td>\n",
       "      <td>Google Phone</td>\n",
       "      <td>1</td>\n",
       "      <td>600</td>\n",
       "      <td>04/12/19 14:38</td>\n",
       "      <td>669 Spruce St, Los Angeles, CA 90001</td>\n",
       "      <td>04</td>\n",
       "    </tr>\n",
       "    <tr>\n",
       "      <th>3</th>\n",
       "      <td>4</td>\n",
       "      <td>176560</td>\n",
       "      <td>Wired Headphones</td>\n",
       "      <td>1</td>\n",
       "      <td>11.99</td>\n",
       "      <td>04/12/19 14:38</td>\n",
       "      <td>669 Spruce St, Los Angeles, CA 90001</td>\n",
       "      <td>04</td>\n",
       "    </tr>\n",
       "    <tr>\n",
       "      <th>4</th>\n",
       "      <td>5</td>\n",
       "      <td>176561</td>\n",
       "      <td>Wired Headphones</td>\n",
       "      <td>1</td>\n",
       "      <td>11.99</td>\n",
       "      <td>04/30/19 09:27</td>\n",
       "      <td>333 8th St, Los Angeles, CA 90001</td>\n",
       "      <td>04</td>\n",
       "    </tr>\n",
       "  </tbody>\n",
       "</table>\n",
       "</div>"
      ],
      "text/plain": [
       "   index Order ID                     Product Quantity Ordered Price Each  \\\n",
       "0      0   176558        USB-C Charging Cable                2      11.95   \n",
       "1      2   176559  Bose SoundSport Headphones                1      99.99   \n",
       "2      3   176560                Google Phone                1        600   \n",
       "3      4   176560            Wired Headphones                1      11.99   \n",
       "4      5   176561            Wired Headphones                1      11.99   \n",
       "\n",
       "       Order Date                      Purchase Address Month  \n",
       "0  04/19/19 08:46          917 1st St, Dallas, TX 75001    04  \n",
       "1  04/07/19 22:30     682 Chestnut St, Boston, MA 02215    04  \n",
       "2  04/12/19 14:38  669 Spruce St, Los Angeles, CA 90001    04  \n",
       "3  04/12/19 14:38  669 Spruce St, Los Angeles, CA 90001    04  \n",
       "4  04/30/19 09:27     333 8th St, Los Angeles, CA 90001    04  "
      ]
     },
     "execution_count": 196,
     "metadata": {},
     "output_type": "execute_result"
    }
   ],
   "source": [
    "df.head()"
   ]
  },
  {
   "cell_type": "code",
   "execution_count": 197,
   "id": "ee09bfb7",
   "metadata": {},
   "outputs": [],
   "source": [
    "df=df.loc[df['Quantity Ordered'].str.contains('Quantity')== False].reset_index()"
   ]
  },
  {
   "cell_type": "code",
   "execution_count": 198,
   "id": "c244c3d5",
   "metadata": {},
   "outputs": [],
   "source": [
    "df['Total Earnings'] = df['Quantity Ordered'].astype(int) * df['Price Each'].astype(float)"
   ]
  },
  {
   "cell_type": "code",
   "execution_count": 199,
   "id": "6fcf5b3f",
   "metadata": {},
   "outputs": [],
   "source": [
    "df_monthly_sales = df[['Month', 'Total Earnings']].groupby('Month').sum().reset_index()"
   ]
  },
  {
   "cell_type": "code",
   "execution_count": 200,
   "id": "140fa215",
   "metadata": {},
   "outputs": [
    {
     "data": {
      "text/html": [
       "<div>\n",
       "<style scoped>\n",
       "    .dataframe tbody tr th:only-of-type {\n",
       "        vertical-align: middle;\n",
       "    }\n",
       "\n",
       "    .dataframe tbody tr th {\n",
       "        vertical-align: top;\n",
       "    }\n",
       "\n",
       "    .dataframe thead th {\n",
       "        text-align: right;\n",
       "    }\n",
       "</style>\n",
       "<table border=\"1\" class=\"dataframe\">\n",
       "  <thead>\n",
       "    <tr style=\"text-align: right;\">\n",
       "      <th></th>\n",
       "      <th>Month</th>\n",
       "      <th>Total Earnings</th>\n",
       "    </tr>\n",
       "  </thead>\n",
       "  <tbody>\n",
       "    <tr>\n",
       "      <th>0</th>\n",
       "      <td>01</td>\n",
       "      <td>1822256.73</td>\n",
       "    </tr>\n",
       "    <tr>\n",
       "      <th>1</th>\n",
       "      <td>02</td>\n",
       "      <td>2202022.42</td>\n",
       "    </tr>\n",
       "    <tr>\n",
       "      <th>2</th>\n",
       "      <td>03</td>\n",
       "      <td>2807100.38</td>\n",
       "    </tr>\n",
       "    <tr>\n",
       "      <th>3</th>\n",
       "      <td>04</td>\n",
       "      <td>3390670.24</td>\n",
       "    </tr>\n",
       "    <tr>\n",
       "      <th>4</th>\n",
       "      <td>05</td>\n",
       "      <td>3152606.75</td>\n",
       "    </tr>\n",
       "    <tr>\n",
       "      <th>5</th>\n",
       "      <td>06</td>\n",
       "      <td>2577802.26</td>\n",
       "    </tr>\n",
       "    <tr>\n",
       "      <th>6</th>\n",
       "      <td>07</td>\n",
       "      <td>2647775.76</td>\n",
       "    </tr>\n",
       "    <tr>\n",
       "      <th>7</th>\n",
       "      <td>08</td>\n",
       "      <td>2244467.88</td>\n",
       "    </tr>\n",
       "    <tr>\n",
       "      <th>8</th>\n",
       "      <td>09</td>\n",
       "      <td>2097560.13</td>\n",
       "    </tr>\n",
       "    <tr>\n",
       "      <th>9</th>\n",
       "      <td>10</td>\n",
       "      <td>3736726.88</td>\n",
       "    </tr>\n",
       "    <tr>\n",
       "      <th>10</th>\n",
       "      <td>11</td>\n",
       "      <td>3199603.20</td>\n",
       "    </tr>\n",
       "    <tr>\n",
       "      <th>11</th>\n",
       "      <td>12</td>\n",
       "      <td>4613443.34</td>\n",
       "    </tr>\n",
       "  </tbody>\n",
       "</table>\n",
       "</div>"
      ],
      "text/plain": [
       "   Month  Total Earnings\n",
       "0     01      1822256.73\n",
       "1     02      2202022.42\n",
       "2     03      2807100.38\n",
       "3     04      3390670.24\n",
       "4     05      3152606.75\n",
       "5     06      2577802.26\n",
       "6     07      2647775.76\n",
       "7     08      2244467.88\n",
       "8     09      2097560.13\n",
       "9     10      3736726.88\n",
       "10    11      3199603.20\n",
       "11    12      4613443.34"
      ]
     },
     "execution_count": 200,
     "metadata": {},
     "output_type": "execute_result"
    }
   ],
   "source": [
    "df_monthly_sales"
   ]
  },
  {
   "cell_type": "code",
   "execution_count": 201,
   "id": "c1815c96",
   "metadata": {},
   "outputs": [
    {
     "name": "stdout",
     "output_type": "stream",
     "text": [
      "   Month  Total Earnings\n",
      "11    12      4613443.34\n"
     ]
    }
   ],
   "source": [
    "print(df_monthly_sales.nlargest(1, 'Total Earnings'))"
   ]
  },
  {
   "cell_type": "markdown",
   "id": "a97b7b28",
   "metadata": {},
   "source": [
    "# What city had the highest number of sales?"
   ]
  },
  {
   "cell_type": "code",
   "execution_count": 203,
   "id": "6f279e5c",
   "metadata": {},
   "outputs": [],
   "source": [
    "def get_city(address):\n",
    "    return address.split(',')[1]\n",
    "df['City'] = df['Purchase Address'].apply(lambda x: get_city(x))\n",
    "def get_state0(address):\n",
    "    return address.split(',')[2]\n",
    "df['State0'] = df['Purchase Address'].apply(lambda x: get_state0(x))\n",
    "def get_state(address):\n",
    "    return address.split(' ')[1]\n",
    "df['State'] = df['State0'].apply(lambda x: get_state(x))\n",
    "df['City + State'] = df['City'] + ' ' + df['State']\n",
    "df = df.drop(columns = ['State0', 'City', 'State'])"
   ]
  },
  {
   "cell_type": "code",
   "execution_count": 205,
   "id": "e1f762b7",
   "metadata": {},
   "outputs": [],
   "source": [
    "df_city_sales = df[['City + State', 'Total Earnings']].groupby('City + State').sum()"
   ]
  },
  {
   "cell_type": "code",
   "execution_count": 206,
   "id": "454f2219",
   "metadata": {},
   "outputs": [
    {
     "data": {
      "text/html": [
       "<div>\n",
       "<style scoped>\n",
       "    .dataframe tbody tr th:only-of-type {\n",
       "        vertical-align: middle;\n",
       "    }\n",
       "\n",
       "    .dataframe tbody tr th {\n",
       "        vertical-align: top;\n",
       "    }\n",
       "\n",
       "    .dataframe thead th {\n",
       "        text-align: right;\n",
       "    }\n",
       "</style>\n",
       "<table border=\"1\" class=\"dataframe\">\n",
       "  <thead>\n",
       "    <tr style=\"text-align: right;\">\n",
       "      <th></th>\n",
       "      <th>Total Earnings</th>\n",
       "    </tr>\n",
       "    <tr>\n",
       "      <th>City + State</th>\n",
       "      <th></th>\n",
       "    </tr>\n",
       "  </thead>\n",
       "  <tbody>\n",
       "    <tr>\n",
       "      <th>Atlanta GA</th>\n",
       "      <td>2795498.58</td>\n",
       "    </tr>\n",
       "    <tr>\n",
       "      <th>Austin TX</th>\n",
       "      <td>1819581.75</td>\n",
       "    </tr>\n",
       "    <tr>\n",
       "      <th>Boston MA</th>\n",
       "      <td>3661642.01</td>\n",
       "    </tr>\n",
       "    <tr>\n",
       "      <th>Dallas TX</th>\n",
       "      <td>2767975.40</td>\n",
       "    </tr>\n",
       "    <tr>\n",
       "      <th>Los Angeles CA</th>\n",
       "      <td>5452570.80</td>\n",
       "    </tr>\n",
       "    <tr>\n",
       "      <th>New York City NY</th>\n",
       "      <td>4664317.43</td>\n",
       "    </tr>\n",
       "    <tr>\n",
       "      <th>Portland ME</th>\n",
       "      <td>449758.27</td>\n",
       "    </tr>\n",
       "    <tr>\n",
       "      <th>Portland OR</th>\n",
       "      <td>1870732.34</td>\n",
       "    </tr>\n",
       "    <tr>\n",
       "      <th>San Francisco CA</th>\n",
       "      <td>8262203.91</td>\n",
       "    </tr>\n",
       "    <tr>\n",
       "      <th>Seattle WA</th>\n",
       "      <td>2747755.48</td>\n",
       "    </tr>\n",
       "  </tbody>\n",
       "</table>\n",
       "</div>"
      ],
      "text/plain": [
       "                   Total Earnings\n",
       "City + State                     \n",
       " Atlanta GA            2795498.58\n",
       " Austin TX             1819581.75\n",
       " Boston MA             3661642.01\n",
       " Dallas TX             2767975.40\n",
       " Los Angeles CA        5452570.80\n",
       " New York City NY      4664317.43\n",
       " Portland ME            449758.27\n",
       " Portland OR           1870732.34\n",
       " San Francisco CA      8262203.91\n",
       " Seattle WA            2747755.48"
      ]
     },
     "execution_count": 206,
     "metadata": {},
     "output_type": "execute_result"
    }
   ],
   "source": [
    "df_city_sales"
   ]
  },
  {
   "cell_type": "code",
   "execution_count": 207,
   "id": "ee89e8f9",
   "metadata": {},
   "outputs": [
    {
     "name": "stdout",
     "output_type": "stream",
     "text": [
      "                   Total Earnings\n",
      "City + State                     \n",
      " San Francisco CA      8262203.91\n"
     ]
    }
   ],
   "source": [
    "print(df_city_sales.nlargest(1, 'Total Earnings'))"
   ]
  },
  {
   "cell_type": "markdown",
   "id": "d0ea069a",
   "metadata": {},
   "source": [
    "# What time should we display advertisements?\n"
   ]
  },
  {
   "cell_type": "code",
   "execution_count": 208,
   "id": "83af6b5e",
   "metadata": {},
   "outputs": [
    {
     "data": {
      "text/plain": [
       "0         04/19/19 08:46\n",
       "1         04/07/19 22:30\n",
       "2         04/12/19 14:38\n",
       "3         04/12/19 14:38\n",
       "4         04/30/19 09:27\n",
       "               ...      \n",
       "185945    09/17/19 20:56\n",
       "185946    09/01/19 16:00\n",
       "185947    09/23/19 07:39\n",
       "185948    09/19/19 17:30\n",
       "185949    09/30/19 00:18\n",
       "Name: Order Date, Length: 185950, dtype: object"
      ]
     },
     "execution_count": 208,
     "metadata": {},
     "output_type": "execute_result"
    }
   ],
   "source": [
    "df['Order Date']"
   ]
  },
  {
   "cell_type": "code",
   "execution_count": 209,
   "id": "7450f0a2",
   "metadata": {},
   "outputs": [],
   "source": [
    "def get_time(time):\n",
    "    return time.split(' ')[1]\n",
    "df['Time of purchase'] = df['Order Date'].apply(lambda x: get_time(x))\n",
    "def get_hour(time):\n",
    "    return time.split(':')[0]\n",
    "df['Hour Of Purchase'] = df['Time of purchase'].apply(lambda x: get_hour(x))\n",
    "df = df.drop(columns = 'Time of purchase')\n"
   ]
  },
  {
   "cell_type": "code",
   "execution_count": 211,
   "id": "afa1d8f1",
   "metadata": {},
   "outputs": [],
   "source": [
    "df_sales_in_time = df[['Total Earnings', 'Hour Of Purchase']].groupby('Hour Of Purchase').sum()"
   ]
  },
  {
   "cell_type": "code",
   "execution_count": 212,
   "id": "8f4ff072",
   "metadata": {},
   "outputs": [
    {
     "name": "stdout",
     "output_type": "stream",
     "text": [
      "                  Total Earnings\n",
      "Hour Of Purchase                \n",
      "19                    2412938.54\n",
      "12                    2316821.34\n",
      "11                    2300610.24\n",
      "20                    2281716.24\n",
      "18                    2219348.30\n",
      "13                    2155389.80\n",
      "17                    2129361.61\n",
      "14                    2083672.73\n",
      "21                    2042000.86\n",
      "10                    1944286.77\n",
      "15                    1941549.60\n",
      "16                    1904601.31\n",
      "09                    1639030.58\n",
      "22                    1607549.21\n",
      "08                    1192348.97\n",
      "23                    1179304.44\n",
      "07                     744854.12\n",
      "00                     713721.27\n",
      "01                     460866.88\n",
      "06                     448113.00\n",
      "02                     234851.44\n",
      "05                     230679.82\n",
      "04                     162661.01\n",
      "03                     145757.89\n"
     ]
    }
   ],
   "source": [
    "print(df_sales_in_time.sort_values('Total Earnings', ascending=False))"
   ]
  },
  {
   "cell_type": "markdown",
   "id": "70ebe208",
   "metadata": {},
   "source": [
    "### Answer: People are most likely to buy products around 7 pm, so we should target them with advertisements right before that time. Significant amount of products are also sold around noon, so that is another important time for us to push advertising as much as possible."
   ]
  },
  {
   "cell_type": "markdown",
   "id": "ef627696",
   "metadata": {},
   "source": [
    "### different approach:"
   ]
  },
  {
   "cell_type": "code",
   "execution_count": 213,
   "id": "acabf74b",
   "metadata": {},
   "outputs": [],
   "source": [
    "df1 = df.copy(deep=True)"
   ]
  },
  {
   "cell_type": "code",
   "execution_count": 219,
   "id": "5515ba81",
   "metadata": {},
   "outputs": [],
   "source": [
    "df1 = df1.drop(columns = 'Hour Of Purchase')"
   ]
  },
  {
   "cell_type": "code",
   "execution_count": 214,
   "id": "fe338ab4",
   "metadata": {},
   "outputs": [],
   "source": [
    "df1['Order Date'] = pd.to_datetime(df['Order Date'])"
   ]
  },
  {
   "cell_type": "code",
   "execution_count": 217,
   "id": "908c9dcb",
   "metadata": {},
   "outputs": [],
   "source": [
    "df1['Hour'] = df1['Order Date'].dt.hour"
   ]
  },
  {
   "cell_type": "code",
   "execution_count": 223,
   "id": "9d5086a7",
   "metadata": {},
   "outputs": [],
   "source": [
    "df1_sales_in_time = df1[['Hour', 'Total Earnings']].groupby('Hour').sum()"
   ]
  },
  {
   "cell_type": "code",
   "execution_count": 225,
   "id": "328cc94a",
   "metadata": {},
   "outputs": [
    {
     "name": "stdout",
     "output_type": "stream",
     "text": [
      "      Total Earnings\n",
      "Hour                \n",
      "19        2412938.54\n",
      "12        2316821.34\n",
      "11        2300610.24\n",
      "20        2281716.24\n",
      "18        2219348.30\n",
      "13        2155389.80\n",
      "17        2129361.61\n",
      "14        2083672.73\n",
      "21        2042000.86\n",
      "10        1944286.77\n",
      "15        1941549.60\n",
      "16        1904601.31\n",
      "9         1639030.58\n",
      "22        1607549.21\n",
      "8         1192348.97\n",
      "23        1179304.44\n",
      "7          744854.12\n",
      "0          713721.27\n",
      "1          460866.88\n",
      "6          448113.00\n",
      "2          234851.44\n",
      "5          230679.82\n",
      "4          162661.01\n",
      "3          145757.89\n"
     ]
    }
   ],
   "source": [
    "print(df1_sales_in_time.sort_values('Total Earnings', ascending = False))"
   ]
  },
  {
   "cell_type": "markdown",
   "id": "868d25f7",
   "metadata": {},
   "source": [
    "### Answer: People are most likely to buy products around 7 pm, so we should target them with advertisements right before that time. Significant amount of products are also sold around noon, so that is another important time for us to push advertising as much as possible"
   ]
  },
  {
   "cell_type": "markdown",
   "id": "608fda0c",
   "metadata": {},
   "source": [
    "# What product sold the most?"
   ]
  },
  {
   "cell_type": "code",
   "execution_count": 227,
   "id": "37cd2c04",
   "metadata": {},
   "outputs": [],
   "source": [
    "df = df.reset_index(drop=True)"
   ]
  },
  {
   "cell_type": "code",
   "execution_count": 230,
   "id": "163636a1",
   "metadata": {},
   "outputs": [],
   "source": [
    "df = df.drop(columns = 'level_0')"
   ]
  },
  {
   "cell_type": "code",
   "execution_count": 232,
   "id": "afe5d53c",
   "metadata": {},
   "outputs": [],
   "source": [
    "df = df.drop(columns = 'index')"
   ]
  },
  {
   "cell_type": "code",
   "execution_count": 249,
   "id": "c7bd26d6",
   "metadata": {},
   "outputs": [],
   "source": [
    "df['Quantity Ordered'] = df['Quantity Ordered'].astype(int)"
   ]
  },
  {
   "cell_type": "code",
   "execution_count": 251,
   "id": "e731c41b",
   "metadata": {},
   "outputs": [],
   "source": [
    "df_product_sales = df[['Product', 'Quantity Ordered']].groupby('Product').sum()"
   ]
  },
  {
   "cell_type": "code",
   "execution_count": 259,
   "id": "3a0ca014",
   "metadata": {},
   "outputs": [
    {
     "name": "stdout",
     "output_type": "stream",
     "text": [
      "                        Quantity Ordered\n",
      "Product                                 \n",
      "AAA Batteries (4-pack)             31017\n"
     ]
    }
   ],
   "source": [
    "print(df_product_sales.sort_values(by = 'Quantity Ordered', ascending = False).nlargest(1, 'Quantity Ordered'))"
   ]
  },
  {
   "cell_type": "code",
   "execution_count": null,
   "id": "49896854",
   "metadata": {},
   "outputs": [],
   "source": []
  }
 ],
 "metadata": {
  "kernelspec": {
   "display_name": "Python 3 (ipykernel)",
   "language": "python",
   "name": "python3"
  },
  "language_info": {
   "codemirror_mode": {
    "name": "ipython",
    "version": 3
   },
   "file_extension": ".py",
   "mimetype": "text/x-python",
   "name": "python",
   "nbconvert_exporter": "python",
   "pygments_lexer": "ipython3",
   "version": "3.10.9"
  }
 },
 "nbformat": 4,
 "nbformat_minor": 5
}
